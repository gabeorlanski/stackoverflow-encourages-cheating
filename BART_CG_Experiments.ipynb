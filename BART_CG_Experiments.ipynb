{
  "nbformat": 4,
  "nbformat_minor": 0,
  "metadata": {
    "accelerator": "GPU",
    "colab": {
      "name": "BART CG Experiments",
      "provenance": [],
      "collapsed_sections": [],
      "toc_visible": true
    },
    "kernelspec": {
      "display_name": "Python 3",
      "name": "python3"
    },
    "language_info": {
      "name": "python"
    }
  },
  "cells": [
    {
      "cell_type": "code",
      "metadata": {
        "colab": {
          "base_uri": "https://localhost:8080/"
        },
        "id": "WvJWSK6YmPuS",
        "outputId": "ea7ca6f3-4695-420d-a6ba-4841050cff99"
      },
      "source": [
        "\n",
        "!pip3 install transformers==4.9.2\n",
        "!pip3 install datasets==1.5.0\n",
        "!pip3 install ml-collections==0.1.0\n",
        "!pip install sentencepiece==0.1.95\n",
        "!pip install sacrebleu==1.5.1\n",
        "!pip install unidecode==1.2.0\n",
        "!pip install rouge_score==0.0.4"
      ],
      "execution_count": 1,
      "outputs": [
        {
          "output_type": "stream",
          "text": [
            "Requirement already satisfied: transformers==4.9.2 in /usr/local/lib/python3.7/dist-packages (4.9.2)\n",
            "Requirement already satisfied: sacremoses in /usr/local/lib/python3.7/dist-packages (from transformers==4.9.2) (0.0.45)\n",
            "Requirement already satisfied: tqdm>=4.27 in /usr/local/lib/python3.7/dist-packages (from transformers==4.9.2) (4.49.0)\n",
            "Requirement already satisfied: pyyaml>=5.1 in /usr/local/lib/python3.7/dist-packages (from transformers==4.9.2) (5.4.1)\n",
            "Requirement already satisfied: huggingface-hub==0.0.12 in /usr/local/lib/python3.7/dist-packages (from transformers==4.9.2) (0.0.12)\n",
            "Requirement already satisfied: requests in /usr/local/lib/python3.7/dist-packages (from transformers==4.9.2) (2.23.0)\n",
            "Requirement already satisfied: packaging in /usr/local/lib/python3.7/dist-packages (from transformers==4.9.2) (21.0)\n",
            "Requirement already satisfied: filelock in /usr/local/lib/python3.7/dist-packages (from transformers==4.9.2) (3.0.12)\n",
            "Requirement already satisfied: tokenizers<0.11,>=0.10.1 in /usr/local/lib/python3.7/dist-packages (from transformers==4.9.2) (0.10.3)\n",
            "Requirement already satisfied: numpy>=1.17 in /usr/local/lib/python3.7/dist-packages (from transformers==4.9.2) (1.19.5)\n",
            "Requirement already satisfied: regex!=2019.12.17 in /usr/local/lib/python3.7/dist-packages (from transformers==4.9.2) (2019.12.20)\n",
            "Requirement already satisfied: importlib-metadata in /usr/local/lib/python3.7/dist-packages (from transformers==4.9.2) (4.6.1)\n",
            "Requirement already satisfied: typing-extensions in /usr/local/lib/python3.7/dist-packages (from huggingface-hub==0.0.12->transformers==4.9.2) (3.7.4.3)\n",
            "Requirement already satisfied: pyparsing>=2.0.2 in /usr/local/lib/python3.7/dist-packages (from packaging->transformers==4.9.2) (2.4.7)\n",
            "Requirement already satisfied: zipp>=0.5 in /usr/local/lib/python3.7/dist-packages (from importlib-metadata->transformers==4.9.2) (3.5.0)\n",
            "Requirement already satisfied: idna<3,>=2.5 in /usr/local/lib/python3.7/dist-packages (from requests->transformers==4.9.2) (2.10)\n",
            "Requirement already satisfied: chardet<4,>=3.0.2 in /usr/local/lib/python3.7/dist-packages (from requests->transformers==4.9.2) (3.0.4)\n",
            "Requirement already satisfied: urllib3!=1.25.0,!=1.25.1,<1.26,>=1.21.1 in /usr/local/lib/python3.7/dist-packages (from requests->transformers==4.9.2) (1.24.3)\n",
            "Requirement already satisfied: certifi>=2017.4.17 in /usr/local/lib/python3.7/dist-packages (from requests->transformers==4.9.2) (2021.5.30)\n",
            "Requirement already satisfied: six in /usr/local/lib/python3.7/dist-packages (from sacremoses->transformers==4.9.2) (1.15.0)\n",
            "Requirement already satisfied: click in /usr/local/lib/python3.7/dist-packages (from sacremoses->transformers==4.9.2) (7.1.2)\n",
            "Requirement already satisfied: joblib in /usr/local/lib/python3.7/dist-packages (from sacremoses->transformers==4.9.2) (1.0.1)\n",
            "Requirement already satisfied: datasets==1.5.0 in /usr/local/lib/python3.7/dist-packages (1.5.0)\n",
            "Requirement already satisfied: multiprocess in /usr/local/lib/python3.7/dist-packages (from datasets==1.5.0) (0.70.12.2)\n",
            "Requirement already satisfied: pyarrow>=0.17.1 in /usr/local/lib/python3.7/dist-packages (from datasets==1.5.0) (3.0.0)\n",
            "Requirement already satisfied: tqdm<4.50.0,>=4.27 in /usr/local/lib/python3.7/dist-packages (from datasets==1.5.0) (4.49.0)\n",
            "Requirement already satisfied: dill in /usr/local/lib/python3.7/dist-packages (from datasets==1.5.0) (0.3.4)\n",
            "Requirement already satisfied: fsspec in /usr/local/lib/python3.7/dist-packages (from datasets==1.5.0) (2021.7.0)\n",
            "Requirement already satisfied: numpy>=1.17 in /usr/local/lib/python3.7/dist-packages (from datasets==1.5.0) (1.19.5)\n",
            "Requirement already satisfied: huggingface-hub<0.1.0 in /usr/local/lib/python3.7/dist-packages (from datasets==1.5.0) (0.0.12)\n",
            "Requirement already satisfied: requests>=2.19.0 in /usr/local/lib/python3.7/dist-packages (from datasets==1.5.0) (2.23.0)\n",
            "Requirement already satisfied: xxhash in /usr/local/lib/python3.7/dist-packages (from datasets==1.5.0) (2.0.2)\n",
            "Requirement already satisfied: pandas in /usr/local/lib/python3.7/dist-packages (from datasets==1.5.0) (1.1.5)\n",
            "Requirement already satisfied: importlib-metadata in /usr/local/lib/python3.7/dist-packages (from datasets==1.5.0) (4.6.1)\n",
            "Requirement already satisfied: packaging>=20.9 in /usr/local/lib/python3.7/dist-packages (from huggingface-hub<0.1.0->datasets==1.5.0) (21.0)\n",
            "Requirement already satisfied: typing-extensions in /usr/local/lib/python3.7/dist-packages (from huggingface-hub<0.1.0->datasets==1.5.0) (3.7.4.3)\n",
            "Requirement already satisfied: filelock in /usr/local/lib/python3.7/dist-packages (from huggingface-hub<0.1.0->datasets==1.5.0) (3.0.12)\n",
            "Requirement already satisfied: pyparsing>=2.0.2 in /usr/local/lib/python3.7/dist-packages (from packaging>=20.9->huggingface-hub<0.1.0->datasets==1.5.0) (2.4.7)\n",
            "Requirement already satisfied: idna<3,>=2.5 in /usr/local/lib/python3.7/dist-packages (from requests>=2.19.0->datasets==1.5.0) (2.10)\n",
            "Requirement already satisfied: chardet<4,>=3.0.2 in /usr/local/lib/python3.7/dist-packages (from requests>=2.19.0->datasets==1.5.0) (3.0.4)\n",
            "Requirement already satisfied: certifi>=2017.4.17 in /usr/local/lib/python3.7/dist-packages (from requests>=2.19.0->datasets==1.5.0) (2021.5.30)\n",
            "Requirement already satisfied: urllib3!=1.25.0,!=1.25.1,<1.26,>=1.21.1 in /usr/local/lib/python3.7/dist-packages (from requests>=2.19.0->datasets==1.5.0) (1.24.3)\n",
            "Requirement already satisfied: zipp>=0.5 in /usr/local/lib/python3.7/dist-packages (from importlib-metadata->datasets==1.5.0) (3.5.0)\n",
            "Requirement already satisfied: python-dateutil>=2.7.3 in /usr/local/lib/python3.7/dist-packages (from pandas->datasets==1.5.0) (2.8.1)\n",
            "Requirement already satisfied: pytz>=2017.2 in /usr/local/lib/python3.7/dist-packages (from pandas->datasets==1.5.0) (2018.9)\n",
            "Requirement already satisfied: six>=1.5 in /usr/local/lib/python3.7/dist-packages (from python-dateutil>=2.7.3->pandas->datasets==1.5.0) (1.15.0)\n",
            "Requirement already satisfied: ml-collections==0.1.0 in /usr/local/lib/python3.7/dist-packages (0.1.0)\n",
            "Requirement already satisfied: six in /usr/local/lib/python3.7/dist-packages (from ml-collections==0.1.0) (1.15.0)\n",
            "Requirement already satisfied: PyYAML in /usr/local/lib/python3.7/dist-packages (from ml-collections==0.1.0) (5.4.1)\n",
            "Requirement already satisfied: absl-py in /usr/local/lib/python3.7/dist-packages (from ml-collections==0.1.0) (0.12.0)\n",
            "Requirement already satisfied: contextlib2 in /usr/local/lib/python3.7/dist-packages (from ml-collections==0.1.0) (0.5.5)\n",
            "Requirement already satisfied: sentencepiece==0.1.95 in /usr/local/lib/python3.7/dist-packages (0.1.95)\n",
            "Requirement already satisfied: sacrebleu==1.5.1 in /usr/local/lib/python3.7/dist-packages (1.5.1)\n",
            "Requirement already satisfied: portalocker==2.0.0 in /usr/local/lib/python3.7/dist-packages (from sacrebleu==1.5.1) (2.0.0)\n",
            "Requirement already satisfied: unidecode==1.2.0 in /usr/local/lib/python3.7/dist-packages (1.2.0)\n",
            "Requirement already satisfied: rouge_score==0.0.4 in /usr/local/lib/python3.7/dist-packages (0.0.4)\n",
            "Requirement already satisfied: six>=1.14.0 in /usr/local/lib/python3.7/dist-packages (from rouge_score==0.0.4) (1.15.0)\n",
            "Requirement already satisfied: numpy in /usr/local/lib/python3.7/dist-packages (from rouge_score==0.0.4) (1.19.5)\n",
            "Requirement already satisfied: absl-py in /usr/local/lib/python3.7/dist-packages (from rouge_score==0.0.4) (0.12.0)\n",
            "Requirement already satisfied: nltk in /usr/local/lib/python3.7/dist-packages (from rouge_score==0.0.4) (3.2.5)\n"
          ],
          "name": "stdout"
        }
      ]
    },
    {
      "cell_type": "code",
      "metadata": {
        "colab": {
          "base_uri": "https://localhost:8080/"
        },
        "id": "IC7tQGt_nynE",
        "outputId": "b9da9149-d511-4bc5-d65b-f7316241ec09"
      },
      "source": [
        "!nvidia-smi"
      ],
      "execution_count": 2,
      "outputs": [
        {
          "output_type": "stream",
          "text": [
            "Tue Aug 10 21:13:02 2021       \n",
            "+-----------------------------------------------------------------------------+\n",
            "| NVIDIA-SMI 470.42.01    Driver Version: 460.32.03    CUDA Version: 11.2     |\n",
            "|-------------------------------+----------------------+----------------------+\n",
            "| GPU  Name        Persistence-M| Bus-Id        Disp.A | Volatile Uncorr. ECC |\n",
            "| Fan  Temp  Perf  Pwr:Usage/Cap|         Memory-Usage | GPU-Util  Compute M. |\n",
            "|                               |                      |               MIG M. |\n",
            "|===============================+======================+======================|\n",
            "|   0  Tesla P100-PCIE...  Off  | 00000000:00:04.0 Off |                    0 |\n",
            "| N/A   38C    P0    26W / 250W |      0MiB / 16280MiB |      0%      Default |\n",
            "|                               |                      |                  N/A |\n",
            "+-------------------------------+----------------------+----------------------+\n",
            "                                                                               \n",
            "+-----------------------------------------------------------------------------+\n",
            "| Processes:                                                                  |\n",
            "|  GPU   GI   CI        PID   Type   Process name                  GPU Memory |\n",
            "|        ID   ID                                                   Usage      |\n",
            "|=============================================================================|\n",
            "|  No running processes found                                                 |\n",
            "+-----------------------------------------------------------------------------+\n"
          ],
          "name": "stdout"
        }
      ]
    },
    {
      "cell_type": "code",
      "metadata": {
        "colab": {
          "base_uri": "https://localhost:8080/"
        },
        "id": "l9bqrXjTl4f1",
        "outputId": "7ec25a23-c70a-47ad-eaa8-8ce4ece1490b"
      },
      "source": [
        "from pathlib import Path\n",
        "%cd /\n",
        "%cd content\n",
        "!rm -rf stackoverflow-encourages-cheating \n",
        "!git clone https://github.com/gabeorlanski/stackoverflow-encourages-cheating.git\n",
        "%cd stackoverflow-encourages-cheating"
      ],
      "execution_count": 3,
      "outputs": [
        {
          "output_type": "stream",
          "text": [
            "/\n",
            "/content\n",
            "Cloning into 'stackoverflow-encourages-cheating'...\n",
            "remote: Enumerating objects: 184, done.\u001b[K\n",
            "remote: Counting objects: 100% (184/184), done.\u001b[K\n",
            "remote: Compressing objects: 100% (151/151), done.\u001b[K\n",
            "remote: Total 184 (delta 75), reused 129 (delta 29), pack-reused 0\u001b[K\n",
            "Receiving objects: 100% (184/184), 3.63 MiB | 13.01 MiB/s, done.\n",
            "Resolving deltas: 100% (75/75), done.\n",
            "/content/stackoverflow-encourages-cheating\n"
          ],
          "name": "stdout"
        }
      ]
    },
    {
      "cell_type": "markdown",
      "metadata": {
        "id": "9kuTyMnP4vBq"
      },
      "source": [
        "# Configuration\n",
        "\n",
        "Select what configuration you want to use and see the results.\n",
        "\n",
        "### From the Paper:\n",
        "\n",
        "* Body => `use_body==True` \n",
        "* With Mined => `use_mined==True`\n",
        "* -NL => `ablation_config==\"Only Code\"`\n",
        "* -Code => `ablation_config==\"Only NL\"`\n",
        "* -Blocks => `ablation_config==\"No Code Blocks\"`\n",
        "* -Inline => `ablation_config==\"No Inline\"`"
      ]
    },
    {
      "cell_type": "code",
      "metadata": {
        "id": "Y2Xc4edql-Ae"
      },
      "source": [
        "use_mined = True #@param {type:\"boolean\"}\n",
        "use_body = True #@param {type:\"boolean\"}\n",
        "ablation_config = \"Full Body\" #@param [\"Full Body\", \"Only NL\", \"Only Code\", \"No Code Blocks\", \"No Inline\"]\n",
        "batch_size = 12 #@param {type:\"integer\"}\n",
        "\n",
        "preprocessor_kwargs = {}\n",
        "if use_body:\n",
        "    if ablation_config == \"Only NL\":\n",
        "        preprocessor_kwargs['remove_all_code']=True\n",
        "    elif ablation_config == \"Only Code\":\n",
        "        preprocessor_kwargs[\"use_only_code\"]=True\n",
        "    elif ablation_config == \"No Code Blocks\":\n",
        "        preprocessor_kwargs[\"remove_code_blocks\"]=True\n",
        "    elif ablation_config == \"No Inline\":\n",
        "        preprocessor_kwargs[\"remove_inline_code\"]=True"
      ],
      "execution_count": 4,
      "outputs": []
    },
    {
      "cell_type": "code",
      "metadata": {
        "id": "edU7Y1TAmhZL"
      },
      "source": [
        "from transformers import (\n",
        "    AutoTokenizer, PreTrainedTokenizer, AutoModelForSeq2SeqLM, Seq2SeqTrainer,\n",
        "    Seq2SeqTrainingArguments, TrainingArguments, Trainer, AutoConfig,\n",
        "    AutoModelForSequenceClassification\n",
        ")\n",
        "from datasets import load_dataset, Metric, load_metric, list_metrics\n",
        "import torch\n",
        "import ml_collections\n",
        "import transformers\n",
        "from numpy.random import default_rng\n",
        "import numpy as np\n",
        "import json\n",
        "import re\n",
        "import random\n",
        "\n",
        "seed = 1995\n",
        "rng = default_rng(seed)\n",
        "def setSeed():\n",
        "    random.seed(seed)\n",
        "    np.random.seed(seed)\n",
        "    torch.manual_seed(seed)\n",
        "    torch.cuda.manual_seed(seed)\n",
        "    torch.cuda.manual_seed_all(seed)\n",
        "setSeed()"
      ],
      "execution_count": 5,
      "outputs": []
    },
    {
      "cell_type": "code",
      "metadata": {
        "id": "n-nbAPmxm-_O"
      },
      "source": [
        "device = torch.device('cuda') if torch.cuda.is_available() else torch.device('cpu')\n",
        "model_name = \"facebook/bart-base\""
      ],
      "execution_count": 6,
      "outputs": []
    },
    {
      "cell_type": "code",
      "metadata": {
        "id": "BlrFKCFanCQC"
      },
      "source": [
        "from src import processor, evaluation\n",
        "from src.evaluation import utility\n",
        "from src.processor import *\n",
        "from src.common.training_util import loadDatasets, processRawDatasets\n",
        "from src.evaluation import *\n",
        "from src.processor.common import *\n",
        "\n",
        "max_length= 128 if not use_body else 512"
      ],
      "execution_count": 7,
      "outputs": []
    },
    {
      "cell_type": "markdown",
      "metadata": {
        "id": "LKsZVh8V5fkV"
      },
      "source": [
        "# Dataset Preprocessing\n",
        "\n",
        "Load the `CodeGenerationProcessor` with the current config. \n",
        "\n",
        "**NOTE:** Google Colab is Python 3.*7* whereas the `py3_asdl.grammar` is for python 3.*8*.\n",
        " Thankfully it is not used here but do be aware of that."
      ]
    },
    {
      "cell_type": "code",
      "metadata": {
        "colab": {
          "base_uri": "https://localhost:8080/"
        },
        "id": "vUpv1mXPux3s",
        "outputId": "10f74988-bf68-4075-f22e-47c484f0beea"
      },
      "source": [
        "tokenizer = AutoTokenizer.from_pretrained(model_name, use_fast=True)\n",
        "preprocessor = CodeGenerationProcessor(\n",
        "    'best',\n",
        "    f'bartBase{\"wMined\" if use_mined else \"\"}',\n",
        "    tokenizer,\n",
        "    Path('data','html_tags.txt'),\n",
        "    Path('data','py3_asdl.grammar'),\n",
        "    max_len=max_length,\n",
        "    target_max_len=128,\n",
        "    use_body=use_body,\n",
        "    **preprocessor_kwargs\n",
        ")\n",
        "print(preprocessor.name)"
      ],
      "execution_count": 8,
      "outputs": [
        {
          "output_type": "stream",
          "text": [
            "best_bartBasewMined_512in_128out_Intent_Snippet_body\n"
          ],
          "name": "stdout"
        }
      ]
    },
    {
      "cell_type": "markdown",
      "metadata": {
        "id": "BFv32Iax55L5"
      },
      "source": [
        "Load the datasets and process them"
      ]
    },
    {
      "cell_type": "code",
      "metadata": {
        "colab": {
          "base_uri": "https://localhost:8080/"
        },
        "id": "I_tsfTAgnKeS",
        "outputId": "03b46597-8f2c-420c-a8d2-e0848be189b1"
      },
      "source": [
        "\n",
        "raw_datasets = loadDatasets(\n",
        "        preprocessor=preprocessor,\n",
        "        use_filter=False,\n",
        "        load_dataset_args={'skip_api': True},\n",
        ")\n",
        "\n",
        "datasets, new_splits = processRawDatasets(\n",
        "    raw_datasets,\n",
        "    preprocessor,\n",
        "    num_procs=4,\n",
        "    shuffle_seed=21,\n",
        "    val_size=.1,\n",
        "    combine_mined_train=use_mined\n",
        ")\n",
        "\n",
        "for split_name, split in new_splits.items():\n",
        "    raw_datasets[split_name] = split"
      ],
      "execution_count": 9,
      "outputs": [
        {
          "output_type": "stream",
          "text": [
            "Using custom data configuration default-47d77f710bd55aad\n",
            "Reusing dataset base_dataset (/root/.cache/huggingface/datasets/base_dataset/default-47d77f710bd55aad/1.1.0/096d241636bbd19e0f9e8391fc6cdc57a7d1e5af9d67cbbf5eb39dbcd8a5a5a3)\n"
          ],
          "name": "stderr"
        },
        {
          "output_type": "stream",
          "text": [
            "Processing split named 'test'\n"
          ],
          "name": "stdout"
        },
        {
          "output_type": "stream",
          "text": [
            "Loading cached processed dataset at /root/.cache/huggingface/datasets/base_dataset/default-47d77f710bd55aad/1.1.0/096d241636bbd19e0f9e8391fc6cdc57a7d1e5af9d67cbbf5eb39dbcd8a5a5a3/cache-5e78011def695fc8.arrow\n",
            "Loading cached processed dataset at /root/.cache/huggingface/datasets/base_dataset/default-47d77f710bd55aad/1.1.0/096d241636bbd19e0f9e8391fc6cdc57a7d1e5af9d67cbbf5eb39dbcd8a5a5a3/cache-9be6a85155cdadfa.arrow\n",
            "Loading cached processed dataset at /root/.cache/huggingface/datasets/base_dataset/default-47d77f710bd55aad/1.1.0/096d241636bbd19e0f9e8391fc6cdc57a7d1e5af9d67cbbf5eb39dbcd8a5a5a3/cache-e096895538659b27.arrow\n",
            "Loading cached processed dataset at /root/.cache/huggingface/datasets/base_dataset/default-47d77f710bd55aad/1.1.0/096d241636bbd19e0f9e8391fc6cdc57a7d1e5af9d67cbbf5eb39dbcd8a5a5a3/cache-86d3d4bb7c8cee1d.arrow\n",
            "Loading cached split indices for dataset at /root/.cache/huggingface/datasets/base_dataset/default-47d77f710bd55aad/1.1.0/096d241636bbd19e0f9e8391fc6cdc57a7d1e5af9d67cbbf5eb39dbcd8a5a5a3/cache-ad28238aebf78c21.arrow and /root/.cache/huggingface/datasets/base_dataset/default-47d77f710bd55aad/1.1.0/096d241636bbd19e0f9e8391fc6cdc57a7d1e5af9d67cbbf5eb39dbcd8a5a5a3/cache-910b2f5b737a2cff.arrow\n",
            "Loading cached split indices for dataset at /root/.cache/huggingface/datasets/base_dataset/default-47d77f710bd55aad/1.1.0/096d241636bbd19e0f9e8391fc6cdc57a7d1e5af9d67cbbf5eb39dbcd8a5a5a3/cache-65395d11744d79f7.arrow and /root/.cache/huggingface/datasets/base_dataset/default-47d77f710bd55aad/1.1.0/096d241636bbd19e0f9e8391fc6cdc57a7d1e5af9d67cbbf5eb39dbcd8a5a5a3/cache-27c084e9ff50ca14.arrow\n",
            "Loading cached shuffled indices for dataset at /root/.cache/huggingface/datasets/base_dataset/default-47d77f710bd55aad/1.1.0/096d241636bbd19e0f9e8391fc6cdc57a7d1e5af9d67cbbf5eb39dbcd8a5a5a3/cache-12ee8b2e5c2824d3.arrow\n",
            "Loading cached shuffled indices for dataset at /root/.cache/huggingface/datasets/base_dataset/default-47d77f710bd55aad/1.1.0/096d241636bbd19e0f9e8391fc6cdc57a7d1e5af9d67cbbf5eb39dbcd8a5a5a3/cache-49d0839255cf4d5a.arrow\n"
          ],
          "name": "stderr"
        },
        {
          "output_type": "stream",
          "text": [
            "Processing split named 'val'\n"
          ],
          "name": "stdout"
        },
        {
          "output_type": "stream",
          "text": [
            "Loading cached processed dataset at /root/.cache/huggingface/datasets/base_dataset/default-47d77f710bd55aad/1.1.0/096d241636bbd19e0f9e8391fc6cdc57a7d1e5af9d67cbbf5eb39dbcd8a5a5a3/cache-53a48fc33e87f5e1.arrow\n",
            "Loading cached processed dataset at /root/.cache/huggingface/datasets/base_dataset/default-47d77f710bd55aad/1.1.0/096d241636bbd19e0f9e8391fc6cdc57a7d1e5af9d67cbbf5eb39dbcd8a5a5a3/cache-a35e1384332420b3.arrow\n",
            "Loading cached processed dataset at /root/.cache/huggingface/datasets/base_dataset/default-47d77f710bd55aad/1.1.0/096d241636bbd19e0f9e8391fc6cdc57a7d1e5af9d67cbbf5eb39dbcd8a5a5a3/cache-e794a90e4af7d71d.arrow\n",
            "Loading cached processed dataset at /root/.cache/huggingface/datasets/base_dataset/default-47d77f710bd55aad/1.1.0/096d241636bbd19e0f9e8391fc6cdc57a7d1e5af9d67cbbf5eb39dbcd8a5a5a3/cache-c71490221b5ef5ef.arrow\n"
          ],
          "name": "stderr"
        },
        {
          "output_type": "stream",
          "text": [
            "Processing split named 'train'\n"
          ],
          "name": "stdout"
        },
        {
          "output_type": "stream",
          "text": [
            "Loading cached processed dataset at /root/.cache/huggingface/datasets/base_dataset/default-47d77f710bd55aad/1.1.0/096d241636bbd19e0f9e8391fc6cdc57a7d1e5af9d67cbbf5eb39dbcd8a5a5a3/cache-1379a087592e1b1f.arrow\n",
            "Loading cached processed dataset at /root/.cache/huggingface/datasets/base_dataset/default-47d77f710bd55aad/1.1.0/096d241636bbd19e0f9e8391fc6cdc57a7d1e5af9d67cbbf5eb39dbcd8a5a5a3/cache-60efc99d03810b2f.arrow\n",
            "Loading cached processed dataset at /root/.cache/huggingface/datasets/base_dataset/default-47d77f710bd55aad/1.1.0/096d241636bbd19e0f9e8391fc6cdc57a7d1e5af9d67cbbf5eb39dbcd8a5a5a3/cache-fa99a0785b322207.arrow\n",
            "Loading cached processed dataset at /root/.cache/huggingface/datasets/base_dataset/default-47d77f710bd55aad/1.1.0/096d241636bbd19e0f9e8391fc6cdc57a7d1e5af9d67cbbf5eb39dbcd8a5a5a3/cache-16ba7749312ebe8c.arrow\n"
          ],
          "name": "stderr"
        }
      ]
    },
    {
      "cell_type": "markdown",
      "metadata": {
        "id": "Pj7lLTtH58bT"
      },
      "source": [
        "## Sample Inputs for the Data"
      ]
    },
    {
      "cell_type": "code",
      "metadata": {
        "colab": {
          "base_uri": "https://localhost:8080/"
        },
        "id": "fmeIHPwiKNVf",
        "outputId": "3b8686af-cf57-4e7d-8e52-fa99618712a5"
      },
      "source": [
        "num_to_print = 5\n",
        "print(f\"Data from {preprocessor.name}:\")\n",
        "print()\n",
        "for k in ['train','val','test']:\n",
        "    print(f\"{k} ({datasets[k].num_rows} examples):\")\n",
        "    print(f\"\\tFirst {num_to_print} ids in {k}: {datasets[k]['question_id'][:num_to_print]}\")\n",
        "    print(f\"\\tFirst {num_to_print} text:\")\n",
        "    for i in range(num_to_print): \n",
        "        decoded = repr(tokenizer.decode(datasets[k][i]['input_ids']))\n",
        "        print(f\"\\t\\t{decoded[:128]}\")\n"
      ],
      "execution_count": 10,
      "outputs": [
        {
          "output_type": "stream",
          "text": [
            "Data from best_bartBasewMined_512in_128out_Intent_Snippet_body:\n",
            "\n",
            "train (11127 examples):\n",
            "\tFirst 5 ids in train: ['4576115', '280222', '4967580', '32800623', '13114512']\n",
            "\tFirst 5 text:\n",
            "\t\t\"<s>convert a list to a dictionary in python  Let's say I have a list  a   in Python whose entries conveniently map to a diction\n",
            "\t\t\"<s>python - sort a list of nested lists  I have input consisting of a list of nested lists like this:\\n l = [[[[[39]]]], [1, 2,\n",
            "\t\t'<s>how to get the size of a string in python?  For example, I get a string:\\n str = \"please answer my question\"\\n\\n I want to w\n",
            "\t\t\"<s>how to get the fft of a numpy array to work?  I'm reading a specific column of a csv file as a numpy array. When I try to do\n",
            "\t\t\"<s>calculating difference between two rows in python / pandas  In python, how can I reference previous row and calculate someth\n",
            "val (1237 examples):\n",
            "\tFirst 5 ids in val: ['28134319', '36368252', '3258573', '30108372', '6086047']\n",
            "\tFirst 5 text:\n",
            "\t\t\"<s>remove first and last lines of string `s`  I have a python script that, for various reasons, has a variable that is a fairly\n",
            "\t\t'<s>combine or join numpy arrays  How can I join two numpy ndarrays to accomplish the following in a fast way, using optimized n\n",
            "\t\t\"<s>pythonic way to insert every 2 elements in a string  Is there a pythonic way to insert an element into every 2nd element in \n",
            "\t\t'<s>how to make matplotlib scatterplots transparent as a group?  I\\'m making some scatterplots using Matplotlib (python 3.4.0, m\n",
            "\t\t'<s>get output of python script from within python script  printbob.py:\\n import sys\\nfor arg in sys.argv:\\n    print arg\\n\\n ge\n",
            "test (500 examples):\n",
            "\tFirst 5 ids in test: ['15080500', '3283984', '3844801', '4302166', '7555335']\n",
            "\tFirst 5 text:\n",
            "\t\t\"<s>send a signal `signal.sigusr1` to the current process  I have this code which listens to USR1 signals\\n import signal\\nimpor\n",
            "\t\t'<s>decode a hex string \\'4a4b4c\\' to utf-8.  In Python 2, converting the hexadecimal form of a string into the corresponding un\n",
            "\t\t\"<s>check if all elements in list `mylist` are identical  I need a function which takes in a  list   and outputs  True   if all \n",
            "\t\t'<s>format number of spaces between strings `python`, `:` and `very good` to be `20`  If I want to make my formatted string dyna\n",
            "\t\t\"<s>how to convert a string from cp-1251 to utf-8?  I'm using mutagen to convert ID3 tags data from  CP-1251  /  CP-1252   to UT\n"
          ],
          "name": "stdout"
        }
      ]
    },
    {
      "cell_type": "markdown",
      "metadata": {
        "id": "s0-gPq1m6EVc"
      },
      "source": [
        "# Setting up the Model + Evaluator"
      ]
    },
    {
      "cell_type": "code",
      "metadata": {
        "id": "LMgEh6HioWC8"
      },
      "source": [
        "\n",
        "config = AutoConfig.from_pretrained(model_name)\n",
        "config.max_length = preprocessor.max_target_len\n",
        "\n",
        "num_return = 4\n",
        "gen_kwargs ={\n",
        "    'early_stopping':True,\n",
        "    'num_beams': num_return,\n",
        "    'length_penalty': .9,\n",
        "    'num_return_sequences':num_return,\n",
        "}\n",
        "for k,v in gen_kwargs.items():\n",
        "  setattr(config,k,v)\n",
        "\n",
        "model = AutoModelForSeq2SeqLM.from_pretrained(\n",
        "    model_name,\n",
        "    config=config\n",
        ")\n",
        "\n",
        "model.resize_token_embeddings(preprocessor.vocab_size).to(device)\n",
        "if not hasattr(model, 'keys_to_ignore_at_inference'):\n",
        "    model.keys_to_ignore_at_inference = []\n",
        "model.keys_to_ignore_at_inference.extend(preprocessor.ignore_keys)\n",
        "\n"
      ],
      "execution_count": 11,
      "outputs": []
    },
    {
      "cell_type": "code",
      "metadata": {
        "id": "H83C2Un4pEzJ"
      },
      "source": [
        "\n",
        "evaluator = Seq2Seq.CodeGenerationEvaluator(tokenizer, device,smooth_bleu=True)"
      ],
      "execution_count": 12,
      "outputs": []
    },
    {
      "cell_type": "code",
      "metadata": {
        "id": "oMQs-em_pqVF"
      },
      "source": [
        "def trainingArgs(logging_dir, label_names = None):\n",
        "    if label_names is None:\n",
        "        label_names = ['labels']\n",
        "    _config = ml_collections.ConfigDict()\n",
        "    _config.output_dir = logging_dir\n",
        "    _config.evaluation_strategy = \"epoch\"\n",
        "    _config.save_strategy = \"epoch\"\n",
        "    _config.per_device_train_batch_size = batch_size\n",
        "    _config.per_device_eval_batch_size = batch_size\n",
        "    _config.logging_dir = logging_dir\n",
        "    _config.save_total_limit = 2\n",
        "    _config.learning_rate = 5e-5\n",
        "    _config.seed = seed\n",
        "    _config.num_train_epochs = 10\n",
        "    _config.dataloader_num_workers = 0\n",
        "    _config.label_names = label_names\n",
        "    _config.no_cuda = False\n",
        "    _config.load_best_model_at_end = True\n",
        "    _config.group_by_length =True\n",
        "    _config.warmup_ratio = 0.05\n",
        "    _config.logging_strategy='epoch'\n",
        "    return _config"
      ],
      "execution_count": 17,
      "outputs": []
    },
    {
      "cell_type": "markdown",
      "metadata": {
        "id": "DkbSKNCe6JmP"
      },
      "source": [
        "# Training"
      ]
    },
    {
      "cell_type": "code",
      "metadata": {
        "id": "tZgyGCc6vFSC"
      },
      "source": [
        "args_dict = trainingArgs(\"./experiments/\")\n",
        "training_args = Seq2SeqTrainingArguments(**args_dict)\n",
        "training_args.predict_with_generate= True\n",
        "data_collator = transformers.DataCollatorForSeq2Seq(\n",
        "    tokenizer,\n",
        "    pad_to_multiple_of=4\n",
        ")\n",
        "evaluator.minimal=True\n",
        "trainer = Seq2SeqTrainer(\n",
        "    model=model,\n",
        "    args=training_args,\n",
        "    compute_metrics=evaluator,\n",
        "    train_dataset=datasets['train'],\n",
        "    eval_dataset=datasets['val'],\n",
        "    data_collator=data_collator,\n",
        "    tokenizer=tokenizer,\n",
        ")"
      ],
      "execution_count": 18,
      "outputs": []
    },
    {
      "cell_type": "code",
      "metadata": {
        "id": "YdI2VNSTGDAc",
        "colab": {
          "base_uri": "https://localhost:8080/",
          "height": 466
        },
        "outputId": "ce0490d6-06da-4fd0-e95c-22792d594ede"
      },
      "source": [
        "trainer.train()\n",
        "trainer.save_state()"
      ],
      "execution_count": null,
      "outputs": [
        {
          "output_type": "stream",
          "text": [
            "The following columns in the training set  don't have a corresponding argument in `BartForConditionalGeneration.forward` and have been ignored: question_id, idx, slot_map.\n",
            "***** Running training *****\n",
            "  Num examples = 11127\n",
            "  Num Epochs = 10\n",
            "  Instantaneous batch size per device = 12\n",
            "  Total train batch size (w. parallel, distributed & accumulation) = 12\n",
            "  Gradient Accumulation steps = 1\n",
            "  Total optimization steps = 9280\n"
          ],
          "name": "stderr"
        },
        {
          "output_type": "display_data",
          "data": {
            "text/html": [
              "\n",
              "    <div>\n",
              "      \n",
              "      <progress value='1282' max='9280' style='width:300px; height:20px; vertical-align: middle;'></progress>\n",
              "      [1282/9280 06:50 < 42:47, 3.12 it/s, Epoch 1.38/10]\n",
              "    </div>\n",
              "    <table border=\"1\" class=\"dataframe\">\n",
              "  <thead>\n",
              "    <tr style=\"text-align: left;\">\n",
              "      <th>Epoch</th>\n",
              "      <th>Training Loss</th>\n",
              "      <th>Validation Loss</th>\n",
              "      <th>Bleu</th>\n",
              "      <th>Bleu-unigram-precision</th>\n",
              "      <th>Bleu-bigram-precision</th>\n",
              "    </tr>\n",
              "  </thead>\n",
              "  <tbody>\n",
              "    <tr>\n",
              "      <td>1</td>\n",
              "      <td>2.635700</td>\n",
              "      <td>1.843910</td>\n",
              "      <td>3.137188</td>\n",
              "      <td>32.732628</td>\n",
              "      <td>8.294759</td>\n",
              "    </tr>\n",
              "  </tbody>\n",
              "</table><p>"
            ],
            "text/plain": [
              "<IPython.core.display.HTML object>"
            ]
          },
          "metadata": {
            "tags": []
          }
        },
        {
          "output_type": "stream",
          "text": [
            "The following columns in the evaluation set  don't have a corresponding argument in `BartForConditionalGeneration.forward` and have been ignored: question_id, idx, slot_map.\n",
            "***** Running Evaluation *****\n",
            "  Num examples = 1237\n",
            "  Batch size = 12\n",
            "/usr/local/lib/python3.7/dist-packages/torch/_tensor.py:575: UserWarning: floor_divide is deprecated, and will be removed in a future version of pytorch. It currently rounds toward 0 (like the 'trunc' function NOT 'floor'). This results in incorrect rounding for negative values.\n",
            "To keep the current behavior, use torch.div(a, b, rounding_mode='trunc'), or for actual floor division, use torch.div(a, b, rounding_mode='floor'). (Triggered internally at  /pytorch/aten/src/ATen/native/BinaryOps.cpp:467.)\n",
            "  return torch.floor_divide(self, other)\n",
            "Saving model checkpoint to ./experiments/checkpoint-928\n",
            "Configuration saved in ./experiments/checkpoint-928/config.json\n",
            "Model weights saved in ./experiments/checkpoint-928/pytorch_model.bin\n",
            "tokenizer config file saved in ./experiments/checkpoint-928/tokenizer_config.json\n",
            "Special tokens file saved in ./experiments/checkpoint-928/special_tokens_map.json\n"
          ],
          "name": "stderr"
        }
      ]
    },
    {
      "cell_type": "markdown",
      "metadata": {
        "id": "LaR8m_c66LbN"
      },
      "source": [
        "# Evaluation"
      ]
    },
    {
      "cell_type": "code",
      "metadata": {
        "id": "u6uZ1FTHLTX-"
      },
      "source": [
        "num_return = 4\n",
        "gen_kwargs ={\n",
        "    'early_stopping':True,\n",
        "    'num_beams': num_return, \n",
        "    'length_penalty': .9,\n",
        "    'num_return_sequences':num_return,\n",
        "}"
      ],
      "execution_count": null,
      "outputs": []
    },
    {
      "cell_type": "code",
      "metadata": {
        "id": "eGqziJHAgT5W"
      },
      "source": [
        "evaluator.minimal=False\n",
        "utility.evaluateExperiments(\n",
        "    trainer, \n",
        "    preprocessor, \n",
        "    datasets,\n",
        "    raw_datasets,\n",
        "    evaluator, \n",
        "    Path(),\n",
        "    Path('experiments'),\n",
        "    allow_overwrite=True,\n",
        "    batch_size=16,\n",
        "    gen_kwargs=gen_kwargs,\n",
        ")\n"
      ],
      "execution_count": null,
      "outputs": []
    },
    {
      "cell_type": "code",
      "metadata": {
        "pycharm": {
          "name": "#%%\n"
        },
        "id": "lAhMAjxC13yd"
      },
      "source": [
        ""
      ],
      "execution_count": null,
      "outputs": []
    },
    {
      "cell_type": "code",
      "metadata": {
        "id": "PhrM_j2i39en"
      },
      "source": [
        ""
      ],
      "execution_count": null,
      "outputs": []
    }
  ]
}
